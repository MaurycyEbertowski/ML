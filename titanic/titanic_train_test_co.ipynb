{
 "cells": [
  {
   "cell_type": "markdown",
   "id": "NiViHtLndKPb",
   "metadata": {
    "id": "NiViHtLndKPb"
   },
   "source": [
    "### **Załadowanie bibliotek**"
   ]
  },
  {
   "cell_type": "code",
   "execution_count": 1,
   "id": "abc19841-2e02-4dbe-a425-a1788d280273",
   "metadata": {
    "id": "abc19841-2e02-4dbe-a425-a1788d280273"
   },
   "outputs": [],
   "source": [
    "import numpy as np\n",
    "import pandas as pd"
   ]
  },
  {
   "cell_type": "markdown",
   "id": "u7M8gXy7dUSs",
   "metadata": {
    "id": "u7M8gXy7dUSs"
   },
   "source": [
    "### **Wczytanie przetworzonego zbioru danych Titanic**"
   ]
  },
  {
   "cell_type": "code",
   "execution_count": 2,
   "id": "77b02d68-e4eb-4067-a939-9aa8f454b5f5",
   "metadata": {
    "id": "77b02d68-e4eb-4067-a939-9aa8f454b5f5",
    "outputId": "1613a2bf-97a0-46ee-e1e7-8db595c2392c"
   },
   "outputs": [
    {
     "data": {
      "text/html": [
       "<div>\n",
       "<style scoped>\n",
       "    .dataframe tbody tr th:only-of-type {\n",
       "        vertical-align: middle;\n",
       "    }\n",
       "\n",
       "    .dataframe tbody tr th {\n",
       "        vertical-align: top;\n",
       "    }\n",
       "\n",
       "    .dataframe thead th {\n",
       "        text-align: right;\n",
       "    }\n",
       "</style>\n",
       "<table border=\"1\" class=\"dataframe\">\n",
       "  <thead>\n",
       "    <tr style=\"text-align: right;\">\n",
       "      <th></th>\n",
       "      <th>pclass</th>\n",
       "      <th>survived</th>\n",
       "      <th>name</th>\n",
       "      <th>sex</th>\n",
       "      <th>age</th>\n",
       "      <th>sibsp</th>\n",
       "      <th>parch</th>\n",
       "      <th>ticket</th>\n",
       "      <th>fare</th>\n",
       "      <th>cabin</th>\n",
       "      <th>embarked</th>\n",
       "      <th>boat</th>\n",
       "      <th>body</th>\n",
       "      <th>home.dest</th>\n",
       "      <th>CabinReduced</th>\n",
       "    </tr>\n",
       "  </thead>\n",
       "  <tbody>\n",
       "    <tr>\n",
       "      <th>0</th>\n",
       "      <td>1.0</td>\n",
       "      <td>1</td>\n",
       "      <td>Allen, Miss. Elisabeth Walton</td>\n",
       "      <td>female</td>\n",
       "      <td>29.0000</td>\n",
       "      <td>0.0</td>\n",
       "      <td>0.0</td>\n",
       "      <td>24160</td>\n",
       "      <td>211.3375</td>\n",
       "      <td>B5</td>\n",
       "      <td>S</td>\n",
       "      <td>2</td>\n",
       "      <td>NaN</td>\n",
       "      <td>St Louis, MO</td>\n",
       "      <td>B</td>\n",
       "    </tr>\n",
       "    <tr>\n",
       "      <th>1</th>\n",
       "      <td>1.0</td>\n",
       "      <td>1</td>\n",
       "      <td>Allison, Master. Hudson Trevor</td>\n",
       "      <td>male</td>\n",
       "      <td>0.9167</td>\n",
       "      <td>1.0</td>\n",
       "      <td>2.0</td>\n",
       "      <td>113781</td>\n",
       "      <td>151.5500</td>\n",
       "      <td>C22 C26</td>\n",
       "      <td>S</td>\n",
       "      <td>11</td>\n",
       "      <td>NaN</td>\n",
       "      <td>Montreal, PQ / Chesterville, ON</td>\n",
       "      <td>C</td>\n",
       "    </tr>\n",
       "    <tr>\n",
       "      <th>2</th>\n",
       "      <td>1.0</td>\n",
       "      <td>0</td>\n",
       "      <td>Allison, Miss. Helen Loraine</td>\n",
       "      <td>female</td>\n",
       "      <td>2.0000</td>\n",
       "      <td>1.0</td>\n",
       "      <td>2.0</td>\n",
       "      <td>113781</td>\n",
       "      <td>151.5500</td>\n",
       "      <td>C22 C26</td>\n",
       "      <td>S</td>\n",
       "      <td>NaN</td>\n",
       "      <td>NaN</td>\n",
       "      <td>Montreal, PQ / Chesterville, ON</td>\n",
       "      <td>C</td>\n",
       "    </tr>\n",
       "    <tr>\n",
       "      <th>3</th>\n",
       "      <td>1.0</td>\n",
       "      <td>0</td>\n",
       "      <td>Allison, Mr. Hudson Joshua Creighton</td>\n",
       "      <td>male</td>\n",
       "      <td>30.0000</td>\n",
       "      <td>1.0</td>\n",
       "      <td>2.0</td>\n",
       "      <td>113781</td>\n",
       "      <td>151.5500</td>\n",
       "      <td>C22 C26</td>\n",
       "      <td>S</td>\n",
       "      <td>NaN</td>\n",
       "      <td>135.0</td>\n",
       "      <td>Montreal, PQ / Chesterville, ON</td>\n",
       "      <td>C</td>\n",
       "    </tr>\n",
       "    <tr>\n",
       "      <th>4</th>\n",
       "      <td>1.0</td>\n",
       "      <td>0</td>\n",
       "      <td>Allison, Mrs. Hudson J C (Bessie Waldo Daniels)</td>\n",
       "      <td>female</td>\n",
       "      <td>25.0000</td>\n",
       "      <td>1.0</td>\n",
       "      <td>2.0</td>\n",
       "      <td>113781</td>\n",
       "      <td>151.5500</td>\n",
       "      <td>C22 C26</td>\n",
       "      <td>S</td>\n",
       "      <td>NaN</td>\n",
       "      <td>NaN</td>\n",
       "      <td>Montreal, PQ / Chesterville, ON</td>\n",
       "      <td>C</td>\n",
       "    </tr>\n",
       "    <tr>\n",
       "      <th>5</th>\n",
       "      <td>1.0</td>\n",
       "      <td>1</td>\n",
       "      <td>Anderson, Mr. Harry</td>\n",
       "      <td>male</td>\n",
       "      <td>48.0000</td>\n",
       "      <td>0.0</td>\n",
       "      <td>0.0</td>\n",
       "      <td>19952</td>\n",
       "      <td>26.5500</td>\n",
       "      <td>E12</td>\n",
       "      <td>S</td>\n",
       "      <td>3</td>\n",
       "      <td>NaN</td>\n",
       "      <td>New York, NY</td>\n",
       "      <td>E</td>\n",
       "    </tr>\n",
       "    <tr>\n",
       "      <th>6</th>\n",
       "      <td>1.0</td>\n",
       "      <td>1</td>\n",
       "      <td>Andrews, Miss. Kornelia Theodosia</td>\n",
       "      <td>female</td>\n",
       "      <td>63.0000</td>\n",
       "      <td>1.0</td>\n",
       "      <td>0.0</td>\n",
       "      <td>13502</td>\n",
       "      <td>77.9583</td>\n",
       "      <td>D7</td>\n",
       "      <td>S</td>\n",
       "      <td>10</td>\n",
       "      <td>NaN</td>\n",
       "      <td>Hudson, NY</td>\n",
       "      <td>D</td>\n",
       "    </tr>\n",
       "    <tr>\n",
       "      <th>7</th>\n",
       "      <td>1.0</td>\n",
       "      <td>0</td>\n",
       "      <td>Andrews, Mr. Thomas Jr</td>\n",
       "      <td>male</td>\n",
       "      <td>39.0000</td>\n",
       "      <td>0.0</td>\n",
       "      <td>0.0</td>\n",
       "      <td>112050</td>\n",
       "      <td>0.0000</td>\n",
       "      <td>A36</td>\n",
       "      <td>S</td>\n",
       "      <td>NaN</td>\n",
       "      <td>NaN</td>\n",
       "      <td>Belfast, NI</td>\n",
       "      <td>A</td>\n",
       "    </tr>\n",
       "    <tr>\n",
       "      <th>8</th>\n",
       "      <td>1.0</td>\n",
       "      <td>1</td>\n",
       "      <td>Appleton, Mrs. Edward Dale (Charlotte Lamson)</td>\n",
       "      <td>female</td>\n",
       "      <td>53.0000</td>\n",
       "      <td>2.0</td>\n",
       "      <td>0.0</td>\n",
       "      <td>11769</td>\n",
       "      <td>51.4792</td>\n",
       "      <td>C101</td>\n",
       "      <td>S</td>\n",
       "      <td>D</td>\n",
       "      <td>NaN</td>\n",
       "      <td>Bayside, Queens, NY</td>\n",
       "      <td>C</td>\n",
       "    </tr>\n",
       "    <tr>\n",
       "      <th>9</th>\n",
       "      <td>1.0</td>\n",
       "      <td>0</td>\n",
       "      <td>Artagaveytia, Mr. Ramon</td>\n",
       "      <td>male</td>\n",
       "      <td>71.0000</td>\n",
       "      <td>0.0</td>\n",
       "      <td>0.0</td>\n",
       "      <td>PC 17609</td>\n",
       "      <td>49.5042</td>\n",
       "      <td>NaN</td>\n",
       "      <td>C</td>\n",
       "      <td>NaN</td>\n",
       "      <td>22.0</td>\n",
       "      <td>Montevideo, Uruguay</td>\n",
       "      <td>N</td>\n",
       "    </tr>\n",
       "  </tbody>\n",
       "</table>\n",
       "</div>"
      ],
      "text/plain": [
       "   pclass  survived                                             name     sex  \\\n",
       "0     1.0         1                    Allen, Miss. Elisabeth Walton  female   \n",
       "1     1.0         1                   Allison, Master. Hudson Trevor    male   \n",
       "2     1.0         0                     Allison, Miss. Helen Loraine  female   \n",
       "3     1.0         0             Allison, Mr. Hudson Joshua Creighton    male   \n",
       "4     1.0         0  Allison, Mrs. Hudson J C (Bessie Waldo Daniels)  female   \n",
       "5     1.0         1                              Anderson, Mr. Harry    male   \n",
       "6     1.0         1                Andrews, Miss. Kornelia Theodosia  female   \n",
       "7     1.0         0                           Andrews, Mr. Thomas Jr    male   \n",
       "8     1.0         1    Appleton, Mrs. Edward Dale (Charlotte Lamson)  female   \n",
       "9     1.0         0                          Artagaveytia, Mr. Ramon    male   \n",
       "\n",
       "       age  sibsp  parch    ticket      fare    cabin embarked boat   body  \\\n",
       "0  29.0000    0.0    0.0     24160  211.3375       B5        S    2    NaN   \n",
       "1   0.9167    1.0    2.0    113781  151.5500  C22 C26        S   11    NaN   \n",
       "2   2.0000    1.0    2.0    113781  151.5500  C22 C26        S  NaN    NaN   \n",
       "3  30.0000    1.0    2.0    113781  151.5500  C22 C26        S  NaN  135.0   \n",
       "4  25.0000    1.0    2.0    113781  151.5500  C22 C26        S  NaN    NaN   \n",
       "5  48.0000    0.0    0.0     19952   26.5500      E12        S    3    NaN   \n",
       "6  63.0000    1.0    0.0     13502   77.9583       D7        S   10    NaN   \n",
       "7  39.0000    0.0    0.0    112050    0.0000      A36        S  NaN    NaN   \n",
       "8  53.0000    2.0    0.0     11769   51.4792     C101        S    D    NaN   \n",
       "9  71.0000    0.0    0.0  PC 17609   49.5042      NaN        C  NaN   22.0   \n",
       "\n",
       "                         home.dest CabinReduced  \n",
       "0                     St Louis, MO            B  \n",
       "1  Montreal, PQ / Chesterville, ON            C  \n",
       "2  Montreal, PQ / Chesterville, ON            C  \n",
       "3  Montreal, PQ / Chesterville, ON            C  \n",
       "4  Montreal, PQ / Chesterville, ON            C  \n",
       "5                     New York, NY            E  \n",
       "6                       Hudson, NY            D  \n",
       "7                      Belfast, NI            A  \n",
       "8              Bayside, Queens, NY            C  \n",
       "9              Montevideo, Uruguay            N  "
      ]
     },
     "execution_count": 2,
     "metadata": {},
     "output_type": "execute_result"
    }
   ],
   "source": [
    "titanic = pd.read_csv('titanic1904.csv')\n",
    "titanic.head(10)"
   ]
  },
  {
   "cell_type": "markdown",
   "id": "RrW4unRudj62",
   "metadata": {
    "id": "RrW4unRudj62"
   },
   "source": [
    "### **Funkcja `train_test_split` z biblioteki Scikit-learn**\n",
    "Funkcja ta jest używana do podzielenia danych na zbiór treinngowy i testowy, co umożliwia ocenę modelu na danych, których wcześniej nie widział.\n",
    "\n",
    "**Parametry funkcji:**\n",
    "* X: Zmienne niezależne\n",
    "* y: Zmienna zależna\n",
    "* test_size: określa proporcję lub liczbę próbek w zbiorze testowym\n",
    "* random_state: parametr kontrolujący losowość"
   ]
  },
  {
   "cell_type": "code",
   "execution_count": 3,
   "id": "Blss7vE-dizL",
   "metadata": {
    "id": "Blss7vE-dizL"
   },
   "outputs": [],
   "source": [
    "from sklearn.model_selection import train_test_split"
   ]
  },
  {
   "cell_type": "code",
   "execution_count": 4,
   "id": "629a18c0-5e3d-4e0c-8fbd-c4bd6e9a5f8a",
   "metadata": {
    "id": "629a18c0-5e3d-4e0c-8fbd-c4bd6e9a5f8a"
   },
   "outputs": [],
   "source": [
    "col_name = ['cabin', 'CabinReduced', 'sex']"
   ]
  },
  {
   "cell_type": "code",
   "execution_count": 5,
   "id": "72e4f55b-0cab-40e9-adb3-d86d88e9335b",
   "metadata": {
    "id": "72e4f55b-0cab-40e9-adb3-d86d88e9335b"
   },
   "outputs": [],
   "source": [
    "X = titanic[col_name]\n",
    "y = titanic['survived']\n",
    "\n",
    "X_train, X_test, y_train, y_test = train_test_split(X, y, test_size=0.2, random_state=0)"
   ]
  },
  {
   "cell_type": "code",
   "execution_count": 6,
   "id": "bd9ce33f-bd1f-4230-96fe-1412a4a4ba7b",
   "metadata": {
    "id": "bd9ce33f-bd1f-4230-96fe-1412a4a4ba7b",
    "outputId": "1a8f51b9-1743-48af-f914-7e265425e7a8"
   },
   "outputs": [
    {
     "name": "stdout",
     "output_type": "stream",
     "text": [
      "X_train: (1047, 3)\n",
      "X_test: (262, 3)\n",
      "y_train: (1047,)\n",
      "y_test: (262,)\n"
     ]
    }
   ],
   "source": [
    "print(\"X_train:\", X_train.shape)\n",
    "print(\"X_test:\", X_test.shape)\n",
    "print(\"y_train:\", y_train.shape)\n",
    "print(\"y_test:\", y_test.shape)"
   ]
  },
  {
   "cell_type": "markdown",
   "id": "1m8qq2Pbe_jN",
   "metadata": {
    "id": "1m8qq2Pbe_jN"
   },
   "source": [
    "### **Rozkład etykiet poszczególnych cech**\n",
    "Sprawdzenie, czy rozkład etykiet dla zmiennych w zbiorze treningowym i testowym jest równomierny."
   ]
  },
  {
   "cell_type": "code",
   "execution_count": 7,
   "id": "99a7c7c9-d7c1-4b0f-a02a-38306cb962c5",
   "metadata": {
    "id": "99a7c7c9-d7c1-4b0f-a02a-38306cb962c5",
    "outputId": "dda2701a-37d7-4fb8-99f0-e0c6fd0eb474"
   },
   "outputs": [
    {
     "name": "stdout",
     "output_type": "stream",
     "text": [
      "cabin – liczba cech występujących tylko w zbiorze testowym: 24\n",
      "CabinReduced – liczba cech występujących tylko w zbiorze testowym: 0\n",
      "sex – liczba cech występujących tylko w zbiorze testowym: 0\n"
     ]
    }
   ],
   "source": [
    "for feature in col_name:\n",
    "    unique_test = [x for x in X_test[feature].unique() if x not in X_train[feature].unique()]\n",
    "    print(f\"{feature} – liczba cech występujących tylko w zbiorze testowym: {len(unique_test)}\")"
   ]
  },
  {
   "cell_type": "code",
   "execution_count": 8,
   "id": "5db6e72e-99b6-4cb2-9bd3-057142b0459b",
   "metadata": {
    "id": "5db6e72e-99b6-4cb2-9bd3-057142b0459b",
    "outputId": "8360d517-64f7-4a07-cffb-f6292c310dd5"
   },
   "outputs": [
    {
     "name": "stdout",
     "output_type": "stream",
     "text": [
      "\n",
      "-----------\n",
      "Zmienna: cabin\n",
      "\n",
      "Etykiety występujące tylko w zbiorze testowym:\n",
      "[nan, 'E12', 'C104', 'A31', 'D11', 'D48', 'D10 D12', 'B38', 'D45', 'C50', 'C31', 'B82 B84', 'A32', 'C53', 'B10', 'C70', 'A23', 'C106', 'E58', 'B11', 'F E69', 'B80', 'E39 E41', 'D22']\n",
      "\n",
      "-----------\n",
      "Zmienna: CabinReduced\n",
      "\n",
      "Procentowy rozkład w zbiorze treningowym:\n",
      "CabinReduced\n",
      "N    76.7%\n",
      "C    7.45%\n",
      "B    4.97%\n",
      "E    3.44%\n",
      "D    3.44%\n",
      "A    1.81%\n",
      "F    1.72%\n",
      "G    0.38%\n",
      "T     0.1%\n",
      "Name: proportion, dtype: object\n",
      "\n",
      "Procentowy rozkład w zbiorze testowym:\n",
      "CabinReduced\n",
      "N    80.53%\n",
      "C     6.11%\n",
      "B     4.96%\n",
      "D     3.82%\n",
      "E     1.91%\n",
      "A     1.15%\n",
      "F     1.15%\n",
      "G     0.38%\n",
      "Name: proportion, dtype: object\n",
      "\n",
      "Etykiety występujące tylko w zbiorze testowym:\n",
      "[]\n",
      "\n",
      "-----------\n",
      "Zmienna: sex\n",
      "\n",
      "Procentowy rozkład w zbiorze treningowym:\n",
      "sex\n",
      "male      63.32%\n",
      "female    36.68%\n",
      "Name: proportion, dtype: object\n",
      "\n",
      "Procentowy rozkład w zbiorze testowym:\n",
      "sex\n",
      "male      68.7%\n",
      "female    31.3%\n",
      "Name: proportion, dtype: object\n",
      "\n",
      "Etykiety występujące tylko w zbiorze testowym:\n",
      "[]\n"
     ]
    }
   ],
   "source": [
    "for col in col_name:\n",
    "    print(f\"\\n-----------\\nZmienna: {col}\")\n",
    "\n",
    "    if col != 'cabin':\n",
    "        train_counts = X_train[col].value_counts(normalize=True)\n",
    "        test_counts = X_test[col].value_counts(normalize=True)\n",
    "\n",
    "        print(\"\\nProcentowy rozkład w zbiorze treningowym:\")\n",
    "        print((train_counts * 100).round(2).astype(str) + '%')\n",
    "\n",
    "        print(\"\\nProcentowy rozkład w zbiorze testowym:\")\n",
    "        print((test_counts * 100).round(2).astype(str) + '%')\n",
    "\n",
    "    unique_test_only = [x for x in X_test[col].unique() if x not in X_train[col].unique()]\n",
    "    print(\"\\nEtykiety występujące tylko w zbiorze testowym:\")\n",
    "\n",
    "    if col == 'cabin':\n",
    "        print(unique_test_only)\n",
    "    else:\n",
    "        print(unique_test_only)"
   ]
  },
  {
   "cell_type": "markdown",
   "id": "jiclAzZLfOs5",
   "metadata": {
    "id": "jiclAzZLfOs5"
   },
   "source": [
    "### **Kodowanie zmiennych kategorycznych do zmiennych liczbowych**"
   ]
  },
  {
   "cell_type": "code",
   "execution_count": 9,
   "id": "2e554e30-6637-4130-ada1-683d36922c57",
   "metadata": {
    "id": "2e554e30-6637-4130-ada1-683d36922c57",
    "outputId": "0391ff12-5265-4e3d-888a-6145be26ef2c"
   },
   "outputs": [
    {
     "name": "stdout",
     "output_type": "stream",
     "text": [
      "Przykład mapowania zmiennej 'cabin': {'E40': 1, 'F G73': 2, 'A19': 3, 'C32': 4, 'D': 5}\n",
      "Przykład mapowania zmiennej 'CabinReduced': {'N': 1, 'E': 2, 'F': 3, 'A': 4, 'C': 5}\n",
      "Przykład mapowania zmiennej 'sex': {'male': 1, 'female': 2}\n"
     ]
    }
   ],
   "source": [
    "for col in col_name:\n",
    "\n",
    "    unique_labels = pd.concat([X_train[col], X_test[col]])\n",
    "\n",
    "    mapping_dict = {label: idx + 1 for idx, label in enumerate(unique_labels.dropna().unique())}\n",
    "\n",
    "    X_train[col] = X_train[col].map(mapping_dict)\n",
    "    X_test[col] = X_test[col].map(mapping_dict)\n",
    "\n",
    "    X_train[col] = X_train[col].where(X_train[col].notna(), np.nan)\n",
    "    X_test[col] = X_test[col].where(X_test[col].notna(), np.nan)\n",
    "\n",
    "    print(f\"Przykład mapowania zmiennej '{col}':\", dict(list(mapping_dict.items())[:5]))\n"
   ]
  },
  {
   "cell_type": "code",
   "execution_count": 10,
   "id": "43a3b249-ba75-42ae-98fd-05f8cafa9340",
   "metadata": {
    "id": "43a3b249-ba75-42ae-98fd-05f8cafa9340",
    "outputId": "3889f54a-fed7-4d3c-c608-cfaf4fcb476d"
   },
   "outputs": [
    {
     "data": {
      "text/html": [
       "<div>\n",
       "<style scoped>\n",
       "    .dataframe tbody tr th:only-of-type {\n",
       "        vertical-align: middle;\n",
       "    }\n",
       "\n",
       "    .dataframe tbody tr th {\n",
       "        vertical-align: top;\n",
       "    }\n",
       "\n",
       "    .dataframe thead th {\n",
       "        text-align: right;\n",
       "    }\n",
       "</style>\n",
       "<table border=\"1\" class=\"dataframe\">\n",
       "  <thead>\n",
       "    <tr style=\"text-align: right;\">\n",
       "      <th></th>\n",
       "      <th>cabin</th>\n",
       "      <th>CabinReduced</th>\n",
       "      <th>sex</th>\n",
       "    </tr>\n",
       "  </thead>\n",
       "  <tbody>\n",
       "    <tr>\n",
       "      <th>1118</th>\n",
       "      <td>NaN</td>\n",
       "      <td>1</td>\n",
       "      <td>1</td>\n",
       "    </tr>\n",
       "    <tr>\n",
       "      <th>44</th>\n",
       "      <td>1.0</td>\n",
       "      <td>2</td>\n",
       "      <td>2</td>\n",
       "    </tr>\n",
       "    <tr>\n",
       "      <th>1072</th>\n",
       "      <td>NaN</td>\n",
       "      <td>1</td>\n",
       "      <td>1</td>\n",
       "    </tr>\n",
       "    <tr>\n",
       "      <th>1130</th>\n",
       "      <td>NaN</td>\n",
       "      <td>1</td>\n",
       "      <td>2</td>\n",
       "    </tr>\n",
       "    <tr>\n",
       "      <th>574</th>\n",
       "      <td>NaN</td>\n",
       "      <td>1</td>\n",
       "      <td>1</td>\n",
       "    </tr>\n",
       "    <tr>\n",
       "      <th>1217</th>\n",
       "      <td>2.0</td>\n",
       "      <td>3</td>\n",
       "      <td>1</td>\n",
       "    </tr>\n",
       "    <tr>\n",
       "      <th>500</th>\n",
       "      <td>NaN</td>\n",
       "      <td>1</td>\n",
       "      <td>1</td>\n",
       "    </tr>\n",
       "    <tr>\n",
       "      <th>958</th>\n",
       "      <td>NaN</td>\n",
       "      <td>1</td>\n",
       "      <td>2</td>\n",
       "    </tr>\n",
       "    <tr>\n",
       "      <th>269</th>\n",
       "      <td>3.0</td>\n",
       "      <td>4</td>\n",
       "      <td>1</td>\n",
       "    </tr>\n",
       "    <tr>\n",
       "      <th>322</th>\n",
       "      <td>4.0</td>\n",
       "      <td>5</td>\n",
       "      <td>2</td>\n",
       "    </tr>\n",
       "  </tbody>\n",
       "</table>\n",
       "</div>"
      ],
      "text/plain": [
       "      cabin  CabinReduced  sex\n",
       "1118    NaN             1    1\n",
       "44      1.0             2    2\n",
       "1072    NaN             1    1\n",
       "1130    NaN             1    2\n",
       "574     NaN             1    1\n",
       "1217    2.0             3    1\n",
       "500     NaN             1    1\n",
       "958     NaN             1    2\n",
       "269     3.0             4    1\n",
       "322     4.0             5    2"
      ]
     },
     "execution_count": 10,
     "metadata": {},
     "output_type": "execute_result"
    }
   ],
   "source": [
    "X_train.head(10)"
   ]
  },
  {
   "cell_type": "markdown",
   "id": "jY8UVV6xf0Oh",
   "metadata": {
    "id": "jY8UVV6xf0Oh"
   },
   "source": [
    "### **Sprawdzenie liczby brakujących wartości w zmodyfikowanych zbiorach i zastąpienie ich zerem**\n",
    "\n",
    "Zastąpienie zerem jest akceptowalne, jeśli wiemy, że brak wartości można potraktować jako kategorię \"brak danych\"."
   ]
  },
  {
   "cell_type": "code",
   "execution_count": 11,
   "id": "eb93b819-dbee-40d5-82f0-368f372ead78",
   "metadata": {
    "id": "eb93b819-dbee-40d5-82f0-368f372ead78",
    "outputId": "ae0bde44-00e4-4e4d-ac25-1cb2cf09dc5b"
   },
   "outputs": [
    {
     "name": "stdout",
     "output_type": "stream",
     "text": [
      "Brakujące wartości w zbiorze treningowym:\n",
      "cabin           803\n",
      "CabinReduced      0\n",
      "sex               0\n",
      "dtype: int64\n",
      "\n",
      "Brakujące wartości w zbiorze testowym:\n",
      "cabin           211\n",
      "CabinReduced      0\n",
      "sex               0\n",
      "dtype: int64\n",
      "\n",
      "Po zastąpieniu brakujących wartości zerem:\n",
      "Zbiór treningowy:\n",
      "      cabin  CabinReduced  sex\n",
      "1118    0.0             1    1\n",
      "44      1.0             2    2\n",
      "1072    0.0             1    1\n",
      "1130    0.0             1    2\n",
      "574     0.0             1    1\n",
      "\n",
      "Zbiór testowy:\n",
      "      cabin  CabinReduced  sex\n",
      "1139    0.0             1    1\n",
      "533     0.0             1    2\n",
      "459     0.0             1    1\n",
      "1150    0.0             1    1\n",
      "393     0.0             1    1\n"
     ]
    }
   ],
   "source": [
    "\n",
    "missing_train = X_train.isna().sum()\n",
    "missing_test = X_test.isna().sum()\n",
    "\n",
    "print(\"Brakujące wartości w zbiorze treningowym:\")\n",
    "print(missing_train)\n",
    "\n",
    "print(\"\\nBrakujące wartości w zbiorze testowym:\")\n",
    "print(missing_test)\n",
    "\n",
    "X_train = X_train.fillna(0)\n",
    "X_test = X_test.fillna(0)\n",
    "\n",
    "print(\"\\nPo zastąpieniu brakujących wartości zerem:\")\n",
    "print(\"Zbiór treningowy:\")\n",
    "print(X_train.head())\n",
    "\n",
    "print(\"\\nZbiór testowy:\")\n",
    "print(X_test.head())\n"
   ]
  },
  {
   "cell_type": "markdown",
   "id": "_q9jkcNwgrdZ",
   "metadata": {
    "id": "_q9jkcNwgrdZ"
   },
   "source": [
    "### **Porównanie liczby unikalnych etykiet przed i po mapowaniu**\n",
    "W tej części analizujemy, jak proces mapowania zmiennych kategorycznych na liczbowe wpłynął na liczbę unikalnych wartości w zbiorach treningowym i testowym."
   ]
  },
  {
   "cell_type": "code",
   "execution_count": 12,
   "id": "a7b5df13-d5c0-4b46-93fa-04e9d8902bbc",
   "metadata": {
    "id": "a7b5df13-d5c0-4b46-93fa-04e9d8902bbc",
    "outputId": "19c1aa07-9dea-40c5-b313-3e06791c351e"
   },
   "outputs": [
    {
     "name": "stdout",
     "output_type": "stream",
     "text": [
      "Liczba unikalnych wartości przed redukcją i mapowaniem:\n",
      "Zbiór treningowy: {'cabin': 164, 'CabinReduced': 9, 'sex': 2}\n",
      "Zbiór testowy: {'cabin': 49, 'CabinReduced': 8, 'sex': 2}\n",
      "\n",
      "Liczba unikalnych wartości po redukcji i mapowaniu:\n",
      "Zbiór treningowy: {'cabin': 164, 'CabinReduced': 9, 'sex': 2}\n",
      "Zbiór testowy: {'cabin': 49, 'CabinReduced': 8, 'sex': 2}\n",
      "\n",
      "Różnica w liczbie unikalnych wartości dla zbioru treningowego (przed i po mapowaniu):\n",
      "{'cabin': 0, 'CabinReduced': 0, 'sex': 0}\n",
      "\n",
      "Różnica w liczbie unikalnych wartości dla zbioru testowego (przed i po mapowaniu):\n",
      "{'cabin': 0, 'CabinReduced': 0, 'sex': 0}\n"
     ]
    }
   ],
   "source": [
    "unique_train_before = {col: len(X_train[col].unique()) for col in col_name}\n",
    "unique_test_before = {col: len(X_test[col].unique()) for col in col_name}\n",
    "\n",
    "unique_train_after = {col: len(X_train[col].unique()) for col in col_name}\n",
    "unique_test_after = {col: len(X_test[col].unique()) for col in col_name}\n",
    "\n",
    "print(\"Liczba unikalnych wartości przed redukcją i mapowaniem:\")\n",
    "print(\"Zbiór treningowy:\", unique_train_before)\n",
    "print(\"Zbiór testowy:\", unique_test_before)\n",
    "\n",
    "print(\"\\nLiczba unikalnych wartości po redukcji i mapowaniu:\")\n",
    "print(\"Zbiór treningowy:\", unique_train_after)\n",
    "print(\"Zbiór testowy:\", unique_test_after)\n",
    "\n",
    "diff_train = {col: unique_train_before[col] - unique_train_after[col] for col in col_name}\n",
    "diff_test = {col: unique_test_before[col] - unique_test_after[col] for col in col_name}\n",
    "\n",
    "print(\"\\nRóżnica w liczbie unikalnych wartości dla zbioru treningowego (przed i po mapowaniu):\")\n",
    "print(diff_train)\n",
    "\n",
    "print(\"\\nRóżnica w liczbie unikalnych wartości dla zbioru testowego (przed i po mapowaniu):\")\n",
    "print(diff_test)"
   ]
  },
  {
   "cell_type": "markdown",
   "id": "HrPVC89HhC0h",
   "metadata": {
    "id": "HrPVC89HhC0h"
   },
   "source": [
    "### **Czy cały proces, który został do tej pory wykonany może mieć wpływ na końcowy wynik predykcji i jakość modelu?**\n",
    "Tak, cały proces przygotowania danych może mieć istotny wpływ na końcowy wynik predykcji i jakość modelu. Sposób zakodowania zmiennych kategorycznych, usunięcie lub uzupełnienie brakujących danych, a także zgodność etykiet pomiędzy zbiorem treningowym i testowym wpływa na to, jak model uczy się i jakie wnioski potrafi wyciągnąć. Zakodowanie zmiennych kategorycznych do wartości liczbowych pozwala modelowi lepiej interpretować dane, jednak sposób tego kodowania (np. przypisanie kolejnych liczb naturalnych) może wprowadzać sztuczne relacje. Z kolei zastąpienie brakujących wartości zerami upraszcza przetwarzanie, ale może prowadzić do błędnych interpretacji, jeśli 0 nie niesie rzeczywistego znaczenia w kontekście zmiennej."
   ]
  }
 ],
 "metadata": {
  "colab": {
   "provenance": []
  },
  "kernelspec": {
   "display_name": "Python 3 (ipykernel)",
   "language": "python",
   "name": "python3"
  },
  "language_info": {
   "codemirror_mode": {
    "name": "ipython",
    "version": 3
   },
   "file_extension": ".py",
   "mimetype": "text/x-python",
   "name": "python",
   "nbconvert_exporter": "python",
   "pygments_lexer": "ipython3",
   "version": "3.12.7"
  }
 },
 "nbformat": 4,
 "nbformat_minor": 5
}
