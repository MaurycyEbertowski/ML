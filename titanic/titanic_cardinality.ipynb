{
 "cells": [
  {
   "cell_type": "code",
   "execution_count": 1,
   "id": "9fdc15db-ad28-472d-8ec0-6ed6e1cfc04c",
   "metadata": {},
   "outputs": [],
   "source": [
    "import arff\n",
    "import numpy as np\n",
    "import pandas as pd\n",
    "\n",
    "with open('titanic.arff', 'r', encoding='utf-8') as f:\n",
    "    data = arff.load(f)"
   ]
  },
  {
   "cell_type": "code",
   "execution_count": 2,
   "id": "8908b78c-4d7b-48eb-8871-d20b5e707731",
   "metadata": {},
   "outputs": [
    {
     "data": {
      "text/html": [
       "<div>\n",
       "<style scoped>\n",
       "    .dataframe tbody tr th:only-of-type {\n",
       "        vertical-align: middle;\n",
       "    }\n",
       "\n",
       "    .dataframe tbody tr th {\n",
       "        vertical-align: top;\n",
       "    }\n",
       "\n",
       "    .dataframe thead th {\n",
       "        text-align: right;\n",
       "    }\n",
       "</style>\n",
       "<table border=\"1\" class=\"dataframe\">\n",
       "  <thead>\n",
       "    <tr style=\"text-align: right;\">\n",
       "      <th></th>\n",
       "      <th>pclass</th>\n",
       "      <th>survived</th>\n",
       "      <th>name</th>\n",
       "      <th>sex</th>\n",
       "      <th>age</th>\n",
       "      <th>sibsp</th>\n",
       "      <th>parch</th>\n",
       "      <th>ticket</th>\n",
       "      <th>fare</th>\n",
       "      <th>cabin</th>\n",
       "      <th>embarked</th>\n",
       "      <th>boat</th>\n",
       "      <th>body</th>\n",
       "      <th>home.dest</th>\n",
       "    </tr>\n",
       "  </thead>\n",
       "  <tbody>\n",
       "    <tr>\n",
       "      <th>0</th>\n",
       "      <td>1.0</td>\n",
       "      <td>1</td>\n",
       "      <td>Allen, Miss. Elisabeth Walton</td>\n",
       "      <td>female</td>\n",
       "      <td>29.0000</td>\n",
       "      <td>0.0</td>\n",
       "      <td>0.0</td>\n",
       "      <td>24160</td>\n",
       "      <td>211.3375</td>\n",
       "      <td>B5</td>\n",
       "      <td>S</td>\n",
       "      <td>2</td>\n",
       "      <td>NaN</td>\n",
       "      <td>St Louis, MO</td>\n",
       "    </tr>\n",
       "    <tr>\n",
       "      <th>1</th>\n",
       "      <td>1.0</td>\n",
       "      <td>1</td>\n",
       "      <td>Allison, Master. Hudson Trevor</td>\n",
       "      <td>male</td>\n",
       "      <td>0.9167</td>\n",
       "      <td>1.0</td>\n",
       "      <td>2.0</td>\n",
       "      <td>113781</td>\n",
       "      <td>151.5500</td>\n",
       "      <td>C22 C26</td>\n",
       "      <td>S</td>\n",
       "      <td>11</td>\n",
       "      <td>NaN</td>\n",
       "      <td>Montreal, PQ / Chesterville, ON</td>\n",
       "    </tr>\n",
       "    <tr>\n",
       "      <th>2</th>\n",
       "      <td>1.0</td>\n",
       "      <td>0</td>\n",
       "      <td>Allison, Miss. Helen Loraine</td>\n",
       "      <td>female</td>\n",
       "      <td>2.0000</td>\n",
       "      <td>1.0</td>\n",
       "      <td>2.0</td>\n",
       "      <td>113781</td>\n",
       "      <td>151.5500</td>\n",
       "      <td>C22 C26</td>\n",
       "      <td>S</td>\n",
       "      <td>None</td>\n",
       "      <td>NaN</td>\n",
       "      <td>Montreal, PQ / Chesterville, ON</td>\n",
       "    </tr>\n",
       "    <tr>\n",
       "      <th>3</th>\n",
       "      <td>1.0</td>\n",
       "      <td>0</td>\n",
       "      <td>Allison, Mr. Hudson Joshua Creighton</td>\n",
       "      <td>male</td>\n",
       "      <td>30.0000</td>\n",
       "      <td>1.0</td>\n",
       "      <td>2.0</td>\n",
       "      <td>113781</td>\n",
       "      <td>151.5500</td>\n",
       "      <td>C22 C26</td>\n",
       "      <td>S</td>\n",
       "      <td>None</td>\n",
       "      <td>135.0</td>\n",
       "      <td>Montreal, PQ / Chesterville, ON</td>\n",
       "    </tr>\n",
       "    <tr>\n",
       "      <th>4</th>\n",
       "      <td>1.0</td>\n",
       "      <td>0</td>\n",
       "      <td>Allison, Mrs. Hudson J C (Bessie Waldo Daniels)</td>\n",
       "      <td>female</td>\n",
       "      <td>25.0000</td>\n",
       "      <td>1.0</td>\n",
       "      <td>2.0</td>\n",
       "      <td>113781</td>\n",
       "      <td>151.5500</td>\n",
       "      <td>C22 C26</td>\n",
       "      <td>S</td>\n",
       "      <td>None</td>\n",
       "      <td>NaN</td>\n",
       "      <td>Montreal, PQ / Chesterville, ON</td>\n",
       "    </tr>\n",
       "    <tr>\n",
       "      <th>5</th>\n",
       "      <td>1.0</td>\n",
       "      <td>1</td>\n",
       "      <td>Anderson, Mr. Harry</td>\n",
       "      <td>male</td>\n",
       "      <td>48.0000</td>\n",
       "      <td>0.0</td>\n",
       "      <td>0.0</td>\n",
       "      <td>19952</td>\n",
       "      <td>26.5500</td>\n",
       "      <td>E12</td>\n",
       "      <td>S</td>\n",
       "      <td>3</td>\n",
       "      <td>NaN</td>\n",
       "      <td>New York, NY</td>\n",
       "    </tr>\n",
       "    <tr>\n",
       "      <th>6</th>\n",
       "      <td>1.0</td>\n",
       "      <td>1</td>\n",
       "      <td>Andrews, Miss. Kornelia Theodosia</td>\n",
       "      <td>female</td>\n",
       "      <td>63.0000</td>\n",
       "      <td>1.0</td>\n",
       "      <td>0.0</td>\n",
       "      <td>13502</td>\n",
       "      <td>77.9583</td>\n",
       "      <td>D7</td>\n",
       "      <td>S</td>\n",
       "      <td>10</td>\n",
       "      <td>NaN</td>\n",
       "      <td>Hudson, NY</td>\n",
       "    </tr>\n",
       "    <tr>\n",
       "      <th>7</th>\n",
       "      <td>1.0</td>\n",
       "      <td>0</td>\n",
       "      <td>Andrews, Mr. Thomas Jr</td>\n",
       "      <td>male</td>\n",
       "      <td>39.0000</td>\n",
       "      <td>0.0</td>\n",
       "      <td>0.0</td>\n",
       "      <td>112050</td>\n",
       "      <td>0.0000</td>\n",
       "      <td>A36</td>\n",
       "      <td>S</td>\n",
       "      <td>None</td>\n",
       "      <td>NaN</td>\n",
       "      <td>Belfast, NI</td>\n",
       "    </tr>\n",
       "    <tr>\n",
       "      <th>8</th>\n",
       "      <td>1.0</td>\n",
       "      <td>1</td>\n",
       "      <td>Appleton, Mrs. Edward Dale (Charlotte Lamson)</td>\n",
       "      <td>female</td>\n",
       "      <td>53.0000</td>\n",
       "      <td>2.0</td>\n",
       "      <td>0.0</td>\n",
       "      <td>11769</td>\n",
       "      <td>51.4792</td>\n",
       "      <td>C101</td>\n",
       "      <td>S</td>\n",
       "      <td>D</td>\n",
       "      <td>NaN</td>\n",
       "      <td>Bayside, Queens, NY</td>\n",
       "    </tr>\n",
       "    <tr>\n",
       "      <th>9</th>\n",
       "      <td>1.0</td>\n",
       "      <td>0</td>\n",
       "      <td>Artagaveytia, Mr. Ramon</td>\n",
       "      <td>male</td>\n",
       "      <td>71.0000</td>\n",
       "      <td>0.0</td>\n",
       "      <td>0.0</td>\n",
       "      <td>PC 17609</td>\n",
       "      <td>49.5042</td>\n",
       "      <td>None</td>\n",
       "      <td>C</td>\n",
       "      <td>None</td>\n",
       "      <td>22.0</td>\n",
       "      <td>Montevideo, Uruguay</td>\n",
       "    </tr>\n",
       "    <tr>\n",
       "      <th>10</th>\n",
       "      <td>1.0</td>\n",
       "      <td>0</td>\n",
       "      <td>Astor, Col. John Jacob</td>\n",
       "      <td>male</td>\n",
       "      <td>47.0000</td>\n",
       "      <td>1.0</td>\n",
       "      <td>0.0</td>\n",
       "      <td>PC 17757</td>\n",
       "      <td>227.5250</td>\n",
       "      <td>C62 C64</td>\n",
       "      <td>C</td>\n",
       "      <td>None</td>\n",
       "      <td>124.0</td>\n",
       "      <td>New York, NY</td>\n",
       "    </tr>\n",
       "    <tr>\n",
       "      <th>11</th>\n",
       "      <td>1.0</td>\n",
       "      <td>1</td>\n",
       "      <td>Astor, Mrs. John Jacob (Madeleine Talmadge Force)</td>\n",
       "      <td>female</td>\n",
       "      <td>18.0000</td>\n",
       "      <td>1.0</td>\n",
       "      <td>0.0</td>\n",
       "      <td>PC 17757</td>\n",
       "      <td>227.5250</td>\n",
       "      <td>C62 C64</td>\n",
       "      <td>C</td>\n",
       "      <td>4</td>\n",
       "      <td>NaN</td>\n",
       "      <td>New York, NY</td>\n",
       "    </tr>\n",
       "    <tr>\n",
       "      <th>12</th>\n",
       "      <td>1.0</td>\n",
       "      <td>1</td>\n",
       "      <td>Aubart, Mme. Leontine Pauline</td>\n",
       "      <td>female</td>\n",
       "      <td>24.0000</td>\n",
       "      <td>0.0</td>\n",
       "      <td>0.0</td>\n",
       "      <td>PC 17477</td>\n",
       "      <td>69.3000</td>\n",
       "      <td>B35</td>\n",
       "      <td>C</td>\n",
       "      <td>9</td>\n",
       "      <td>NaN</td>\n",
       "      <td>Paris, France</td>\n",
       "    </tr>\n",
       "    <tr>\n",
       "      <th>13</th>\n",
       "      <td>1.0</td>\n",
       "      <td>1</td>\n",
       "      <td>Barber, Miss. Ellen 'Nellie'</td>\n",
       "      <td>female</td>\n",
       "      <td>26.0000</td>\n",
       "      <td>0.0</td>\n",
       "      <td>0.0</td>\n",
       "      <td>19877</td>\n",
       "      <td>78.8500</td>\n",
       "      <td>None</td>\n",
       "      <td>S</td>\n",
       "      <td>6</td>\n",
       "      <td>NaN</td>\n",
       "      <td>None</td>\n",
       "    </tr>\n",
       "    <tr>\n",
       "      <th>14</th>\n",
       "      <td>1.0</td>\n",
       "      <td>1</td>\n",
       "      <td>Barkworth, Mr. Algernon Henry Wilson</td>\n",
       "      <td>male</td>\n",
       "      <td>80.0000</td>\n",
       "      <td>0.0</td>\n",
       "      <td>0.0</td>\n",
       "      <td>27042</td>\n",
       "      <td>30.0000</td>\n",
       "      <td>A23</td>\n",
       "      <td>S</td>\n",
       "      <td>B</td>\n",
       "      <td>NaN</td>\n",
       "      <td>Hessle, Yorks</td>\n",
       "    </tr>\n",
       "    <tr>\n",
       "      <th>15</th>\n",
       "      <td>1.0</td>\n",
       "      <td>0</td>\n",
       "      <td>Baumann, Mr. John D</td>\n",
       "      <td>male</td>\n",
       "      <td>NaN</td>\n",
       "      <td>0.0</td>\n",
       "      <td>0.0</td>\n",
       "      <td>PC 17318</td>\n",
       "      <td>25.9250</td>\n",
       "      <td>None</td>\n",
       "      <td>S</td>\n",
       "      <td>None</td>\n",
       "      <td>NaN</td>\n",
       "      <td>New York, NY</td>\n",
       "    </tr>\n",
       "    <tr>\n",
       "      <th>16</th>\n",
       "      <td>1.0</td>\n",
       "      <td>0</td>\n",
       "      <td>Baxter, Mr. Quigg Edmond</td>\n",
       "      <td>male</td>\n",
       "      <td>24.0000</td>\n",
       "      <td>0.0</td>\n",
       "      <td>1.0</td>\n",
       "      <td>PC 17558</td>\n",
       "      <td>247.5208</td>\n",
       "      <td>B58 B60</td>\n",
       "      <td>C</td>\n",
       "      <td>None</td>\n",
       "      <td>NaN</td>\n",
       "      <td>Montreal, PQ</td>\n",
       "    </tr>\n",
       "    <tr>\n",
       "      <th>17</th>\n",
       "      <td>1.0</td>\n",
       "      <td>1</td>\n",
       "      <td>Baxter, Mrs. James (Helene DeLaudeniere Chaput)</td>\n",
       "      <td>female</td>\n",
       "      <td>50.0000</td>\n",
       "      <td>0.0</td>\n",
       "      <td>1.0</td>\n",
       "      <td>PC 17558</td>\n",
       "      <td>247.5208</td>\n",
       "      <td>B58 B60</td>\n",
       "      <td>C</td>\n",
       "      <td>6</td>\n",
       "      <td>NaN</td>\n",
       "      <td>Montreal, PQ</td>\n",
       "    </tr>\n",
       "    <tr>\n",
       "      <th>18</th>\n",
       "      <td>1.0</td>\n",
       "      <td>1</td>\n",
       "      <td>Bazzani, Miss. Albina</td>\n",
       "      <td>female</td>\n",
       "      <td>32.0000</td>\n",
       "      <td>0.0</td>\n",
       "      <td>0.0</td>\n",
       "      <td>11813</td>\n",
       "      <td>76.2917</td>\n",
       "      <td>D15</td>\n",
       "      <td>C</td>\n",
       "      <td>8</td>\n",
       "      <td>NaN</td>\n",
       "      <td>None</td>\n",
       "    </tr>\n",
       "    <tr>\n",
       "      <th>19</th>\n",
       "      <td>1.0</td>\n",
       "      <td>0</td>\n",
       "      <td>Beattie, Mr. Thomson</td>\n",
       "      <td>male</td>\n",
       "      <td>36.0000</td>\n",
       "      <td>0.0</td>\n",
       "      <td>0.0</td>\n",
       "      <td>13050</td>\n",
       "      <td>75.2417</td>\n",
       "      <td>C6</td>\n",
       "      <td>C</td>\n",
       "      <td>A</td>\n",
       "      <td>NaN</td>\n",
       "      <td>Winnipeg, MN</td>\n",
       "    </tr>\n",
       "  </tbody>\n",
       "</table>\n",
       "</div>"
      ],
      "text/plain": [
       "    pclass survived                                               name  \\\n",
       "0      1.0        1                      Allen, Miss. Elisabeth Walton   \n",
       "1      1.0        1                     Allison, Master. Hudson Trevor   \n",
       "2      1.0        0                       Allison, Miss. Helen Loraine   \n",
       "3      1.0        0               Allison, Mr. Hudson Joshua Creighton   \n",
       "4      1.0        0    Allison, Mrs. Hudson J C (Bessie Waldo Daniels)   \n",
       "5      1.0        1                                Anderson, Mr. Harry   \n",
       "6      1.0        1                  Andrews, Miss. Kornelia Theodosia   \n",
       "7      1.0        0                             Andrews, Mr. Thomas Jr   \n",
       "8      1.0        1      Appleton, Mrs. Edward Dale (Charlotte Lamson)   \n",
       "9      1.0        0                            Artagaveytia, Mr. Ramon   \n",
       "10     1.0        0                             Astor, Col. John Jacob   \n",
       "11     1.0        1  Astor, Mrs. John Jacob (Madeleine Talmadge Force)   \n",
       "12     1.0        1                      Aubart, Mme. Leontine Pauline   \n",
       "13     1.0        1                       Barber, Miss. Ellen 'Nellie'   \n",
       "14     1.0        1               Barkworth, Mr. Algernon Henry Wilson   \n",
       "15     1.0        0                                Baumann, Mr. John D   \n",
       "16     1.0        0                           Baxter, Mr. Quigg Edmond   \n",
       "17     1.0        1    Baxter, Mrs. James (Helene DeLaudeniere Chaput)   \n",
       "18     1.0        1                              Bazzani, Miss. Albina   \n",
       "19     1.0        0                               Beattie, Mr. Thomson   \n",
       "\n",
       "       sex      age  sibsp  parch    ticket      fare    cabin embarked  boat  \\\n",
       "0   female  29.0000    0.0    0.0     24160  211.3375       B5        S     2   \n",
       "1     male   0.9167    1.0    2.0    113781  151.5500  C22 C26        S    11   \n",
       "2   female   2.0000    1.0    2.0    113781  151.5500  C22 C26        S  None   \n",
       "3     male  30.0000    1.0    2.0    113781  151.5500  C22 C26        S  None   \n",
       "4   female  25.0000    1.0    2.0    113781  151.5500  C22 C26        S  None   \n",
       "5     male  48.0000    0.0    0.0     19952   26.5500      E12        S     3   \n",
       "6   female  63.0000    1.0    0.0     13502   77.9583       D7        S    10   \n",
       "7     male  39.0000    0.0    0.0    112050    0.0000      A36        S  None   \n",
       "8   female  53.0000    2.0    0.0     11769   51.4792     C101        S     D   \n",
       "9     male  71.0000    0.0    0.0  PC 17609   49.5042     None        C  None   \n",
       "10    male  47.0000    1.0    0.0  PC 17757  227.5250  C62 C64        C  None   \n",
       "11  female  18.0000    1.0    0.0  PC 17757  227.5250  C62 C64        C     4   \n",
       "12  female  24.0000    0.0    0.0  PC 17477   69.3000      B35        C     9   \n",
       "13  female  26.0000    0.0    0.0     19877   78.8500     None        S     6   \n",
       "14    male  80.0000    0.0    0.0     27042   30.0000      A23        S     B   \n",
       "15    male      NaN    0.0    0.0  PC 17318   25.9250     None        S  None   \n",
       "16    male  24.0000    0.0    1.0  PC 17558  247.5208  B58 B60        C  None   \n",
       "17  female  50.0000    0.0    1.0  PC 17558  247.5208  B58 B60        C     6   \n",
       "18  female  32.0000    0.0    0.0     11813   76.2917      D15        C     8   \n",
       "19    male  36.0000    0.0    0.0     13050   75.2417       C6        C     A   \n",
       "\n",
       "     body                        home.dest  \n",
       "0     NaN                     St Louis, MO  \n",
       "1     NaN  Montreal, PQ / Chesterville, ON  \n",
       "2     NaN  Montreal, PQ / Chesterville, ON  \n",
       "3   135.0  Montreal, PQ / Chesterville, ON  \n",
       "4     NaN  Montreal, PQ / Chesterville, ON  \n",
       "5     NaN                     New York, NY  \n",
       "6     NaN                       Hudson, NY  \n",
       "7     NaN                      Belfast, NI  \n",
       "8     NaN              Bayside, Queens, NY  \n",
       "9    22.0              Montevideo, Uruguay  \n",
       "10  124.0                     New York, NY  \n",
       "11    NaN                     New York, NY  \n",
       "12    NaN                    Paris, France  \n",
       "13    NaN                             None  \n",
       "14    NaN                    Hessle, Yorks  \n",
       "15    NaN                     New York, NY  \n",
       "16    NaN                     Montreal, PQ  \n",
       "17    NaN                     Montreal, PQ  \n",
       "18    NaN                             None  \n",
       "19    NaN                     Winnipeg, MN  "
      ]
     },
     "execution_count": 2,
     "metadata": {},
     "output_type": "execute_result"
    }
   ],
   "source": [
    "titanic = pd.DataFrame(data['data'], columns=[attr[0] for attr in data['attributes']])\n",
    "titanic.head(20)"
   ]
  },
  {
   "cell_type": "markdown",
   "id": "061ca1f7-6d41-4799-a371-aadc7fec0832",
   "metadata": {},
   "source": [
    "### **Ilość poszczególnych etykiet zmiennych jakościowych**"
   ]
  },
  {
   "cell_type": "code",
   "execution_count": 3,
   "id": "41475cb9-afc9-4f2d-a0e8-82d3519dd9ce",
   "metadata": {},
   "outputs": [
    {
     "name": "stdout",
     "output_type": "stream",
     "text": [
      "Liczba etykiet zmiennej pclass:3\n"
     ]
    },
    {
     "data": {
      "text/plain": [
       "pclass\n",
       "3.0    709\n",
       "1.0    323\n",
       "2.0    277\n",
       "Name: count, dtype: int64"
      ]
     },
     "execution_count": 3,
     "metadata": {},
     "output_type": "execute_result"
    }
   ],
   "source": [
    "print('Liczba etykiet zmiennej pclass:{}'.format(len(titanic['pclass'].unique())))\n",
    "titanic.value_counts('pclass')"
   ]
  },
  {
   "cell_type": "code",
   "execution_count": 4,
   "id": "eefcd7d3-e695-43d5-8f6b-2a5748cc05aa",
   "metadata": {},
   "outputs": [
    {
     "name": "stdout",
     "output_type": "stream",
     "text": [
      "Liczba etykiet zmiennej survived:2\n"
     ]
    },
    {
     "data": {
      "text/plain": [
       "survived\n",
       "0    809\n",
       "1    500\n",
       "Name: count, dtype: int64"
      ]
     },
     "execution_count": 4,
     "metadata": {},
     "output_type": "execute_result"
    }
   ],
   "source": [
    "print('Liczba etykiet zmiennej survived:{}'.format(len(titanic['survived'].unique())))\n",
    "titanic.value_counts('survived')"
   ]
  },
  {
   "cell_type": "code",
   "execution_count": 5,
   "id": "bf9fcdc8-2b16-47d3-854f-3afe3580b7f8",
   "metadata": {},
   "outputs": [
    {
     "name": "stdout",
     "output_type": "stream",
     "text": [
      "Liczba etykiet zmiennej sex:2\n"
     ]
    },
    {
     "data": {
      "text/plain": [
       "sex\n",
       "male      843\n",
       "female    466\n",
       "Name: count, dtype: int64"
      ]
     },
     "execution_count": 5,
     "metadata": {},
     "output_type": "execute_result"
    }
   ],
   "source": [
    "print('Liczba etykiet zmiennej sex:{}'.format(len(titanic['sex'].unique())))\n",
    "titanic.value_counts('sex')"
   ]
  },
  {
   "cell_type": "code",
   "execution_count": 6,
   "id": "09bc08e9-21cd-44c1-b239-6bc4b8e1e4cb",
   "metadata": {},
   "outputs": [
    {
     "name": "stdout",
     "output_type": "stream",
     "text": [
      "Liczba etykiet zmiennej sibsp:7\n"
     ]
    },
    {
     "data": {
      "text/plain": [
       "sibsp\n",
       "0.0    891\n",
       "1.0    319\n",
       "2.0     42\n",
       "4.0     22\n",
       "3.0     20\n",
       "8.0      9\n",
       "5.0      6\n",
       "Name: count, dtype: int64"
      ]
     },
     "execution_count": 6,
     "metadata": {},
     "output_type": "execute_result"
    }
   ],
   "source": [
    "print('Liczba etykiet zmiennej sibsp:{}'.format(len(titanic['sibsp'].unique())))\n",
    "titanic.value_counts('sibsp') #liczba rodzenstwa lub malzonkow na pokladzie"
   ]
  },
  {
   "cell_type": "code",
   "execution_count": 7,
   "id": "8b424397-a114-4c42-928b-0fbedc555a72",
   "metadata": {},
   "outputs": [
    {
     "name": "stdout",
     "output_type": "stream",
     "text": [
      "Liczba etykiet zmiennej parch:8\n"
     ]
    },
    {
     "data": {
      "text/plain": [
       "parch\n",
       "0.0    1002\n",
       "1.0     170\n",
       "2.0     113\n",
       "3.0       8\n",
       "4.0       6\n",
       "5.0       6\n",
       "6.0       2\n",
       "9.0       2\n",
       "Name: count, dtype: int64"
      ]
     },
     "execution_count": 7,
     "metadata": {},
     "output_type": "execute_result"
    }
   ],
   "source": [
    "print('Liczba etykiet zmiennej parch:{}'.format(len(titanic['parch'].unique())))\n",
    "titanic.value_counts('parch') #liczba rodzicow lub dzieci na pokladzie"
   ]
  },
  {
   "cell_type": "code",
   "execution_count": 8,
   "id": "48cb7816-a014-4617-9508-01212feb75b1",
   "metadata": {},
   "outputs": [
    {
     "name": "stdout",
     "output_type": "stream",
     "text": [
      "Liczba etykiet zmiennej cabin:187\n"
     ]
    }
   ],
   "source": [
    "print('Liczba etykiet zmiennej cabin:{}'.format(len(titanic['cabin'].unique())))\n",
    "#titanic.value_counts('cabin')"
   ]
  },
  {
   "cell_type": "code",
   "execution_count": 9,
   "id": "70765f39-527e-4b47-8a5a-5bc0fc7459fe",
   "metadata": {},
   "outputs": [
    {
     "name": "stdout",
     "output_type": "stream",
     "text": [
      "Liczba etykiet zmiennej embarked:4\n"
     ]
    },
    {
     "data": {
      "text/plain": [
       "embarked\n",
       "S    914\n",
       "C    270\n",
       "Q    123\n",
       "Name: count, dtype: int64"
      ]
     },
     "execution_count": 9,
     "metadata": {},
     "output_type": "execute_result"
    }
   ],
   "source": [
    "print('Liczba etykiet zmiennej embarked:{}'.format(len(titanic['embarked'].unique())))\n",
    "titanic.value_counts('embarked')"
   ]
  },
  {
   "cell_type": "code",
   "execution_count": 10,
   "id": "f831b29d-aae0-4f39-87b8-fbd8fb126209",
   "metadata": {},
   "outputs": [
    {
     "name": "stdout",
     "output_type": "stream",
     "text": [
      "Liczba etykiet zmiennej boat:28\n"
     ]
    }
   ],
   "source": [
    "print('Liczba etykiet zmiennej boat:{}'.format(len(titanic['boat'].unique())))\n",
    "#titanic.value_counts('boat')"
   ]
  },
  {
   "cell_type": "code",
   "execution_count": 11,
   "id": "d4c7119e-ebc4-42c3-aad8-2efbd3dc8b53",
   "metadata": {},
   "outputs": [
    {
     "name": "stdout",
     "output_type": "stream",
     "text": [
      "Liczba wszystkich pasażerów: 1309\n"
     ]
    }
   ],
   "source": [
    "print('Liczba wszystkich pasażerów: {}'.format(len(titanic)))"
   ]
  },
  {
   "cell_type": "markdown",
   "id": "68a15c92-ddb5-4b67-a74c-569a1c424646",
   "metadata": {},
   "source": [
    "**Duża moc zbioru: sibsp, parch, cabin, boat:** Mogą być większym wyzwaniem dla modelu uczenia maszynowego, ale są też mniej znaczące. \n",
    "\n",
    "**Mała moc zbioru: pclass, survived, sex, embarked:** Łatwiejsze do przetworzenia przez model i mają większy wpływ na wynik zmiennej przewidywanej.\n",
    "\n",
    "**Liczba wszystkich pasażerów: 1309 -** Jest to duża ilość, a nim więcej danych tym lepiej model może się nauczyć przewidywać.\n",
    "\n",
    "#### **Unikalne etykiety zmiennej *cabin:***"
   ]
  },
  {
   "cell_type": "code",
   "execution_count": 12,
   "id": "05645997-bee6-4fa9-b4bf-93c47206a382",
   "metadata": {},
   "outputs": [
    {
     "name": "stdout",
     "output_type": "stream",
     "text": [
      "Liczba unikalnych etykiet zmiennej cabin:187\n",
      "Unikalne etykiety:\n",
      "['B5' 'C22 C26' 'E12' 'D7' 'A36' 'C101' None 'C62 C64' 'B35' 'A23'\n",
      " 'B58 B60' 'D15' 'C6' 'D35' 'C148' 'C97' 'B49' 'C99' 'C52' 'T' 'A31' 'C7'\n",
      " 'C103' 'D22' 'E33' 'A21' 'B10' 'B4' 'E40' 'B38' 'E24' 'B51 B53 B55'\n",
      " 'B96 B98' 'C46' 'E31' 'E8' 'B61' 'B77' 'A9' 'C89' 'A14' 'E58' 'E49' 'E52'\n",
      " 'E45' 'B22' 'B26' 'C85' 'E17' 'B71' 'B20' 'A34' 'C86' 'A16' 'A20' 'A18'\n",
      " 'C54' 'C45' 'D20' 'A29' 'C95' 'E25' 'C111' 'C23 C25 C27' 'E36' 'D34'\n",
      " 'D40' 'B39' 'B41' 'B102' 'C123' 'E63' 'C130' 'B86' 'C92' 'A5' 'C51' 'B42'\n",
      " 'C91' 'C125' 'D10 D12' 'B82 B84' 'E50' 'D33' 'C83' 'B94' 'D49' 'D45'\n",
      " 'B69' 'B11' 'E46' 'C39' 'B18' 'D11' 'C93' 'B28' 'C49' 'B52 B54 B56' 'E60'\n",
      " 'C132' 'B37' 'D21' 'D19' 'C124' 'D17' 'B101' 'D28' 'D6' 'D9' 'B80' 'C106'\n",
      " 'B79' 'C47' 'D30' 'C90' 'E38' 'C78' 'C30' 'C118' 'D36' 'D48' 'D47' 'C105'\n",
      " 'B36' 'B30' 'D43' 'B24' 'C2' 'C65' 'B73' 'C104' 'C110' 'C50' 'B3' 'A24'\n",
      " 'A32' 'A11' 'A10' 'B57 B59 B63 B66' 'C28' 'E44' 'A26' 'A6' 'A7' 'C31'\n",
      " 'A19' 'B45' 'E34' 'B78' 'B50' 'C87' 'C116' 'C55 C57' 'D50' 'E68' 'E67'\n",
      " 'C126' 'C68' 'C70' 'C53' 'B19' 'D46' 'D37' 'D26' 'C32' 'C80' 'C82' 'C128'\n",
      " 'E39 E41' 'D' 'F4' 'D56' 'F33' 'E101' 'E77' 'F2' 'D38' 'F' 'F G63'\n",
      " 'F E57' 'F E46' 'F G73' 'E121' 'F E69' 'E10' 'G6' 'F38']\n"
     ]
    },
    {
     "data": {
      "text/plain": [
       "numpy.ndarray"
      ]
     },
     "execution_count": 12,
     "metadata": {},
     "output_type": "execute_result"
    }
   ],
   "source": [
    "print('Liczba unikalnych etykiet zmiennej cabin:{}'.format(len(titanic['cabin'].unique())))\n",
    "print('Unikalne etykiety:')\n",
    "print(titanic['cabin'].unique())\n",
    "type(titanic['cabin'].unique())"
   ]
  },
  {
   "cell_type": "markdown",
   "id": "28524b02-0c0e-46b3-a16d-4defe7d66c45",
   "metadata": {},
   "source": [
    "#### **Redukcja liczby cech:**"
   ]
  },
  {
   "cell_type": "code",
   "execution_count": 13,
   "id": "9a017aff-746f-4abd-b6f3-51c6806d78d2",
   "metadata": {},
   "outputs": [
    {
     "data": {
      "text/plain": [
       "0       B\n",
       "1       C\n",
       "2       C\n",
       "3       C\n",
       "4       C\n",
       "       ..\n",
       "1304    N\n",
       "1305    N\n",
       "1306    N\n",
       "1307    N\n",
       "1308    N\n",
       "Name: cabin, Length: 1309, dtype: object"
      ]
     },
     "execution_count": 13,
     "metadata": {},
     "output_type": "execute_result"
    }
   ],
   "source": [
    "CabinReduced = titanic['cabin'].astype(str).str[0]\n",
    "CabinReduced"
   ]
  },
  {
   "cell_type": "code",
   "execution_count": 14,
   "id": "88c98ef7-104d-4c26-9298-bf61b015c593",
   "metadata": {},
   "outputs": [
    {
     "data": {
      "text/html": [
       "<div>\n",
       "<style scoped>\n",
       "    .dataframe tbody tr th:only-of-type {\n",
       "        vertical-align: middle;\n",
       "    }\n",
       "\n",
       "    .dataframe tbody tr th {\n",
       "        vertical-align: top;\n",
       "    }\n",
       "\n",
       "    .dataframe thead th {\n",
       "        text-align: right;\n",
       "    }\n",
       "</style>\n",
       "<table border=\"1\" class=\"dataframe\">\n",
       "  <thead>\n",
       "    <tr style=\"text-align: right;\">\n",
       "      <th></th>\n",
       "      <th>cabin</th>\n",
       "      <th>CabinReduced</th>\n",
       "    </tr>\n",
       "  </thead>\n",
       "  <tbody>\n",
       "    <tr>\n",
       "      <th>0</th>\n",
       "      <td>B5</td>\n",
       "      <td>B</td>\n",
       "    </tr>\n",
       "    <tr>\n",
       "      <th>1</th>\n",
       "      <td>C22 C26</td>\n",
       "      <td>C</td>\n",
       "    </tr>\n",
       "    <tr>\n",
       "      <th>2</th>\n",
       "      <td>C22 C26</td>\n",
       "      <td>C</td>\n",
       "    </tr>\n",
       "    <tr>\n",
       "      <th>3</th>\n",
       "      <td>C22 C26</td>\n",
       "      <td>C</td>\n",
       "    </tr>\n",
       "    <tr>\n",
       "      <th>4</th>\n",
       "      <td>C22 C26</td>\n",
       "      <td>C</td>\n",
       "    </tr>\n",
       "    <tr>\n",
       "      <th>5</th>\n",
       "      <td>E12</td>\n",
       "      <td>E</td>\n",
       "    </tr>\n",
       "    <tr>\n",
       "      <th>6</th>\n",
       "      <td>D7</td>\n",
       "      <td>D</td>\n",
       "    </tr>\n",
       "    <tr>\n",
       "      <th>7</th>\n",
       "      <td>A36</td>\n",
       "      <td>A</td>\n",
       "    </tr>\n",
       "    <tr>\n",
       "      <th>8</th>\n",
       "      <td>C101</td>\n",
       "      <td>C</td>\n",
       "    </tr>\n",
       "    <tr>\n",
       "      <th>9</th>\n",
       "      <td>None</td>\n",
       "      <td>N</td>\n",
       "    </tr>\n",
       "    <tr>\n",
       "      <th>10</th>\n",
       "      <td>C62 C64</td>\n",
       "      <td>C</td>\n",
       "    </tr>\n",
       "    <tr>\n",
       "      <th>11</th>\n",
       "      <td>C62 C64</td>\n",
       "      <td>C</td>\n",
       "    </tr>\n",
       "    <tr>\n",
       "      <th>12</th>\n",
       "      <td>B35</td>\n",
       "      <td>B</td>\n",
       "    </tr>\n",
       "    <tr>\n",
       "      <th>13</th>\n",
       "      <td>None</td>\n",
       "      <td>N</td>\n",
       "    </tr>\n",
       "    <tr>\n",
       "      <th>14</th>\n",
       "      <td>A23</td>\n",
       "      <td>A</td>\n",
       "    </tr>\n",
       "    <tr>\n",
       "      <th>15</th>\n",
       "      <td>None</td>\n",
       "      <td>N</td>\n",
       "    </tr>\n",
       "    <tr>\n",
       "      <th>16</th>\n",
       "      <td>B58 B60</td>\n",
       "      <td>B</td>\n",
       "    </tr>\n",
       "    <tr>\n",
       "      <th>17</th>\n",
       "      <td>B58 B60</td>\n",
       "      <td>B</td>\n",
       "    </tr>\n",
       "    <tr>\n",
       "      <th>18</th>\n",
       "      <td>D15</td>\n",
       "      <td>D</td>\n",
       "    </tr>\n",
       "    <tr>\n",
       "      <th>19</th>\n",
       "      <td>C6</td>\n",
       "      <td>C</td>\n",
       "    </tr>\n",
       "  </tbody>\n",
       "</table>\n",
       "</div>"
      ],
      "text/plain": [
       "      cabin CabinReduced\n",
       "0        B5            B\n",
       "1   C22 C26            C\n",
       "2   C22 C26            C\n",
       "3   C22 C26            C\n",
       "4   C22 C26            C\n",
       "5       E12            E\n",
       "6        D7            D\n",
       "7       A36            A\n",
       "8      C101            C\n",
       "9      None            N\n",
       "10  C62 C64            C\n",
       "11  C62 C64            C\n",
       "12      B35            B\n",
       "13     None            N\n",
       "14      A23            A\n",
       "15     None            N\n",
       "16  B58 B60            B\n",
       "17  B58 B60            B\n",
       "18      D15            D\n",
       "19       C6            C"
      ]
     },
     "execution_count": 14,
     "metadata": {},
     "output_type": "execute_result"
    }
   ],
   "source": [
    "titanic['CabinReduced'] = CabinReduced\n",
    "titanic[['cabin', 'CabinReduced']].head(20)"
   ]
  },
  {
   "cell_type": "code",
   "execution_count": 15,
   "id": "1474a7d4-0364-488c-92ce-71838d35d330",
   "metadata": {},
   "outputs": [
    {
     "name": "stdout",
     "output_type": "stream",
     "text": [
      "Liczba unikalnych etykiet zmiennej cabin po redukcji:9\n",
      "Unikalne etykiety:\n",
      "['B' 'C' 'E' 'D' 'A' 'N' 'T' 'F' 'G']\n"
     ]
    },
    {
     "data": {
      "text/plain": [
       "numpy.ndarray"
      ]
     },
     "execution_count": 15,
     "metadata": {},
     "output_type": "execute_result"
    }
   ],
   "source": [
    "print('Liczba unikalnych etykiet zmiennej cabin po redukcji:{}'.format(len(titanic['CabinReduced'].unique())))\n",
    "print('Unikalne etykiety:')\n",
    "print(titanic['CabinReduced'].unique())\n",
    "type(titanic['CabinReduced'].unique())"
   ]
  },
  {
   "cell_type": "markdown",
   "id": "e5129c4b-0491-42a0-9baa-0cc3b6bb0201",
   "metadata": {},
   "source": [
    "Dokonujemy redukcji liczby cech tej zmiennej, ponieważ kabiny oznaczone tą samą literą prawdopodobnie były do siebie podobne tzn. znajdowały się blisko siebie oraz miały podobny standard i wielkość. Szczegółowe informacje o konkretnym numerze kabiny w danej grupie nie są istotne, a nawet mogłyby negatywnie wpływać na naukę modelu. Redukcja pozwala nam zachować tę cechę i nadal uwzględniać ją przy pracy modelu, a jednocześnie wyciąga z niej najistotniejsze informacje. W tym zestawie danych taka operacja raczej nie powoduje negatywnych skutków, natomiast zawsze przed jej wykonaniem należy przemyśleć czy występuje ryzyko, że utracimy informacje, które miały znaczący wpływ na zmienną przewidywaną."
   ]
  },
  {
   "cell_type": "code",
   "execution_count": 18,
   "id": "9dd2e6b4-2e36-4e17-8d46-d94c0676b708",
   "metadata": {},
   "outputs": [],
   "source": [
    "titanic.to_csv('titanic1904.csv', index=False)\n"
   ]
  }
 ],
 "metadata": {
  "kernelspec": {
   "display_name": "Python 3 (ipykernel)",
   "language": "python",
   "name": "python3"
  },
  "language_info": {
   "codemirror_mode": {
    "name": "ipython",
    "version": 3
   },
   "file_extension": ".py",
   "mimetype": "text/x-python",
   "name": "python",
   "nbconvert_exporter": "python",
   "pygments_lexer": "ipython3",
   "version": "3.12.7"
  }
 },
 "nbformat": 4,
 "nbformat_minor": 5
}
